{
 "cells": [
  {
   "cell_type": "markdown",
   "metadata": {
    "id": "6BRAAtp0QwJ0"
   },
   "source": [
    "### 1. Importing packages"
   ]
  },
  {
   "cell_type": "code",
   "execution_count": 1,
   "metadata": {
    "id": "hXUz16Y0g6_b"
   },
   "outputs": [
    {
     "name": "stdout",
     "output_type": "stream",
     "text": [
      "Requirement already satisfied: pandas-datareader==0.10.0 in c:\\users\\mithu\\appdata\\local\\programs\\python\\python38\\lib\\site-packages (0.10.0)\n",
      "Requirement already satisfied: requests>=2.19.0 in c:\\users\\mithu\\appdata\\local\\programs\\python\\python38\\lib\\site-packages (from pandas-datareader==0.10.0) (2.28.0)\n",
      "Requirement already satisfied: lxml in c:\\users\\mithu\\appdata\\local\\programs\\python\\python38\\lib\\site-packages (from pandas-datareader==0.10.0) (4.9.0)\n",
      "Requirement already satisfied: pandas>=0.23 in c:\\users\\mithu\\appdata\\local\\programs\\python\\python38\\lib\\site-packages (from pandas-datareader==0.10.0) (2.0.3)\n",
      "Requirement already satisfied: numpy>=1.20.3 in c:\\users\\mithu\\appdata\\local\\programs\\python\\python38\\lib\\site-packages (from pandas>=0.23->pandas-datareader==0.10.0) (1.23.3)\n",
      "Requirement already satisfied: tzdata>=2022.1 in c:\\users\\mithu\\appdata\\local\\programs\\python\\python38\\lib\\site-packages (from pandas>=0.23->pandas-datareader==0.10.0) (2023.3)\n",
      "Requirement already satisfied: python-dateutil>=2.8.2 in c:\\users\\mithu\\appdata\\local\\programs\\python\\python38\\lib\\site-packages (from pandas>=0.23->pandas-datareader==0.10.0) (2.8.2)\n",
      "Requirement already satisfied: pytz>=2020.1 in c:\\users\\mithu\\appdata\\local\\programs\\python\\python38\\lib\\site-packages (from pandas>=0.23->pandas-datareader==0.10.0) (2020.1)\n",
      "Requirement already satisfied: charset-normalizer~=2.0.0 in c:\\users\\mithu\\appdata\\local\\programs\\python\\python38\\lib\\site-packages (from requests>=2.19.0->pandas-datareader==0.10.0) (2.0.12)\n",
      "Requirement already satisfied: certifi>=2017.4.17 in c:\\users\\mithu\\appdata\\local\\programs\\python\\python38\\lib\\site-packages (from requests>=2.19.0->pandas-datareader==0.10.0) (2020.4.5.2)\n",
      "Requirement already satisfied: urllib3<1.27,>=1.21.1 in c:\\users\\mithu\\appdata\\local\\programs\\python\\python38\\lib\\site-packages (from requests>=2.19.0->pandas-datareader==0.10.0) (1.25.9)\n",
      "Requirement already satisfied: idna<4,>=2.5 in c:\\users\\mithu\\appdata\\local\\programs\\python\\python38\\lib\\site-packages (from requests>=2.19.0->pandas-datareader==0.10.0) (2.9)\n",
      "Requirement already satisfied: six>=1.5 in c:\\users\\mithu\\appdata\\local\\programs\\python\\python38\\lib\\site-packages (from python-dateutil>=2.8.2->pandas>=0.23->pandas-datareader==0.10.0) (1.15.0)\n"
     ]
    },
    {
     "name": "stderr",
     "output_type": "stream",
     "text": [
      "\n",
      "[notice] A new release of pip available: 22.2.2 -> 23.2.1\n",
      "[notice] To update, run: python.exe -m pip install --upgrade pip\n"
     ]
    }
   ],
   "source": [
    "!pip install pandas-datareader==0.10.0"
   ]
  },
  {
   "cell_type": "code",
   "execution_count": 2,
   "metadata": {},
   "outputs": [
    {
     "name": "stdout",
     "output_type": "stream",
     "text": [
      "Requirement already satisfied: statsmodels in c:\\users\\mithu\\appdata\\local\\programs\\python\\python38\\lib\\site-packages (0.14.0)\n",
      "Requirement already satisfied: scipy!=1.9.2,>=1.4 in c:\\users\\mithu\\appdata\\local\\programs\\python\\python38\\lib\\site-packages (from statsmodels) (1.9.1)\n",
      "Requirement already satisfied: patsy>=0.5.2 in c:\\users\\mithu\\appdata\\local\\programs\\python\\python38\\lib\\site-packages (from statsmodels) (0.5.3)\n",
      "Requirement already satisfied: pandas>=1.0 in c:\\users\\mithu\\appdata\\local\\programs\\python\\python38\\lib\\site-packages (from statsmodels) (2.0.3)\n",
      "Requirement already satisfied: packaging>=21.3 in c:\\users\\mithu\\appdata\\local\\programs\\python\\python38\\lib\\site-packages (from statsmodels) (23.1)\n",
      "Requirement already satisfied: numpy>=1.18 in c:\\users\\mithu\\appdata\\local\\programs\\python\\python38\\lib\\site-packages (from statsmodels) (1.23.3)\n",
      "Requirement already satisfied: python-dateutil>=2.8.2 in c:\\users\\mithu\\appdata\\local\\programs\\python\\python38\\lib\\site-packages (from pandas>=1.0->statsmodels) (2.8.2)\n",
      "Requirement already satisfied: tzdata>=2022.1 in c:\\users\\mithu\\appdata\\local\\programs\\python\\python38\\lib\\site-packages (from pandas>=1.0->statsmodels) (2023.3)\n",
      "Requirement already satisfied: pytz>=2020.1 in c:\\users\\mithu\\appdata\\local\\programs\\python\\python38\\lib\\site-packages (from pandas>=1.0->statsmodels) (2020.1)\n",
      "Requirement already satisfied: six in c:\\users\\mithu\\appdata\\local\\programs\\python\\python38\\lib\\site-packages (from patsy>=0.5.2->statsmodels) (1.15.0)\n"
     ]
    },
    {
     "name": "stderr",
     "output_type": "stream",
     "text": [
      "\n",
      "[notice] A new release of pip available: 22.2.2 -> 23.2.1\n",
      "[notice] To update, run: python.exe -m pip install --upgrade pip\n"
     ]
    }
   ],
   "source": [
    "!pip install statsmodels"
   ]
  },
  {
   "cell_type": "code",
   "execution_count": 3,
   "metadata": {
    "id": "0Km6PqchH8cD"
   },
   "outputs": [],
   "source": [
    "import datetime\n",
    "from pandas_datareader import data as pdr\n",
    "import yfinance as yfin\n",
    "yfin.pdr_override()\n",
    "\n",
    "import pandas as pd\n",
    "import numpy as np\n",
    "\n",
    "import matplotlib.pyplot as plt\n",
    "from statsmodels.graphics.gofplots import qqplot\n",
    "\n",
    "import random\n",
    "\n",
    "import torch\n",
    "import torch.nn as nn\n",
    "from torch.autograd import Variable\n",
    "\n",
    "from sklearn.preprocessing import MinMaxScaler\n",
    "from sklearn.metrics import mean_squared_error\n",
    "\n",
    "from scipy.optimize import minimize\n"
   ]
  },
  {
   "cell_type": "markdown",
   "metadata": {
    "id": "c4KO39s-p-Ze"
   },
   "source": [
    "### 2. Loading dataset"
   ]
  },
  {
   "cell_type": "code",
   "execution_count": 4,
   "metadata": {
    "id": "hGLxOU6fE8bT"
   },
   "outputs": [],
   "source": [
    "# top 30 U.S. companies by market capitalization\n",
    "# except ABBV, FB, TSLA: listed after 2009-12-31\n",
    "#tickers = ['AAPL', 'MSFT', 'GOOG', 'AMZN', 'BRK-A', 'NVDA', 'V', 'JPM', 'UNH', \n",
    "#           'JNJ', 'BAC', 'WMT', 'PG', 'HD', 'MA', 'XOM', 'PFE', 'DIS', 'CVX', \n",
    "#           'KO', 'AVGO', 'PEP', 'CSCO', 'WFC', 'COST', 'LLY', 'ADBE']\n",
    "tickers = ['AAPL', 'MSFT']"
   ]
  },
  {
   "cell_type": "code",
   "execution_count": 5,
   "metadata": {
    "id": "vDtoyShDuJe6"
   },
   "outputs": [],
   "source": [
    "start_time = '2009-12-31' # 2009-12-31\n",
    "end_time = '2021-12-31' # 2021-12-31"
   ]
  },
  {
   "cell_type": "code",
   "execution_count": 6,
   "metadata": {
    "id": "pKLP8Jmi10hR"
   },
   "outputs": [],
   "source": [
    "# where to split training and validation datasets\n",
    "all_split = 2517 # start 31/12/2009, val 02/01/2020, end 31/12/2021\n",
    "# abbv_split = 1762 # start 02/01/2013\n",
    "# fb_split = 1917 # start 18/05/2012\n",
    "# tsla_split = 2394 # start 29/06/2010"
   ]
  },
  {
   "cell_type": "code",
   "execution_count": 7,
   "metadata": {},
   "outputs": [
    {
     "data": {
      "text/plain": [
       "'2009-12-31'"
      ]
     },
     "execution_count": 7,
     "metadata": {},
     "output_type": "execute_result"
    }
   ],
   "source": [
    "str(start_time)"
   ]
  },
  {
   "cell_type": "code",
   "execution_count": 8,
   "metadata": {
    "id": "oYeQX9kBq3R1"
   },
   "outputs": [
    {
     "name": "stdout",
     "output_type": "stream",
     "text": [
      "[*********************100%***********************]  1 of 1 completed\n"
     ]
    }
   ],
   "source": [
    "# getting datetimeindex\n",
    "df = pdr.get_data_yahoo(tickers[0], start=start_time, end=end_time)\n",
    "df.index = pd.to_datetime(df.index)"
   ]
  },
  {
   "cell_type": "code",
   "execution_count": 9,
   "metadata": {
    "id": "JoGNipgLpB4f"
   },
   "outputs": [
    {
     "name": "stdout",
     "output_type": "stream",
     "text": [
      "[*********************100%***********************]  1 of 1 completed\n",
      "[*********************100%***********************]  1 of 1 completed\n"
     ]
    }
   ],
   "source": [
    "# dataframe for Adj Close price\n",
    "act_adj_close_df = pd.DataFrame(index=df.index, columns=tickers)\n",
    "for ticker in tickers:\n",
    "    stock_price_df = pdr.get_data_yahoo(ticker, start_time, end_time)\n",
    "    stock_price_df.index = pd.to_datetime(stock_price_df.index)\n",
    "    act_adj_close_df[ticker] = stock_price_df['Adj Close']"
   ]
  },
  {
   "cell_type": "code",
   "execution_count": 10,
   "metadata": {
    "colab": {
     "base_uri": "https://localhost:8080/",
     "height": 388
    },
    "id": "1mHd4Z6IpR-B",
    "outputId": "8b19c543-9015-459e-e999-a2cdcd926f97"
   },
   "outputs": [
    {
     "data": {
      "text/html": [
       "<div>\n",
       "<style scoped>\n",
       "    .dataframe tbody tr th:only-of-type {\n",
       "        vertical-align: middle;\n",
       "    }\n",
       "\n",
       "    .dataframe tbody tr th {\n",
       "        vertical-align: top;\n",
       "    }\n",
       "\n",
       "    .dataframe thead th {\n",
       "        text-align: right;\n",
       "    }\n",
       "</style>\n",
       "<table border=\"1\" class=\"dataframe\">\n",
       "  <thead>\n",
       "    <tr style=\"text-align: right;\">\n",
       "      <th></th>\n",
       "      <th>AAPL</th>\n",
       "      <th>MSFT</th>\n",
       "    </tr>\n",
       "    <tr>\n",
       "      <th>Date</th>\n",
       "      <th></th>\n",
       "      <th></th>\n",
       "    </tr>\n",
       "  </thead>\n",
       "  <tbody>\n",
       "    <tr>\n",
       "      <th>2009-12-30</th>\n",
       "      <td>6.415689</td>\n",
       "      <td>23.530167</td>\n",
       "    </tr>\n",
       "    <tr>\n",
       "      <th>2009-12-31</th>\n",
       "      <td>6.388104</td>\n",
       "      <td>23.165359</td>\n",
       "    </tr>\n",
       "    <tr>\n",
       "      <th>2010-01-04</th>\n",
       "      <td>6.487534</td>\n",
       "      <td>23.522570</td>\n",
       "    </tr>\n",
       "    <tr>\n",
       "      <th>2010-01-05</th>\n",
       "      <td>6.498749</td>\n",
       "      <td>23.530167</td>\n",
       "    </tr>\n",
       "    <tr>\n",
       "      <th>2010-01-06</th>\n",
       "      <td>6.395379</td>\n",
       "      <td>23.385763</td>\n",
       "    </tr>\n",
       "  </tbody>\n",
       "</table>\n",
       "</div>"
      ],
      "text/plain": [
       "                AAPL       MSFT\n",
       "Date                           \n",
       "2009-12-30  6.415689  23.530167\n",
       "2009-12-31  6.388104  23.165359\n",
       "2010-01-04  6.487534  23.522570\n",
       "2010-01-05  6.498749  23.530167\n",
       "2010-01-06  6.395379  23.385763"
      ]
     },
     "execution_count": 10,
     "metadata": {},
     "output_type": "execute_result"
    }
   ],
   "source": [
    "act_adj_close_df.head()"
   ]
  },
  {
   "cell_type": "code",
   "execution_count": 11,
   "metadata": {
    "id": "8-Az5hX5v27t"
   },
   "outputs": [],
   "source": [
    "# plotting parameters\n",
    "plt.rcParams['figure.figsize'] = (16,9)\n",
    "plt.rcParams['axes.grid'] = True\n",
    "plt.rcParams.update({'font.size': 12})"
   ]
  },
  {
   "cell_type": "code",
   "execution_count": 14,
   "metadata": {
    "colab": {
     "base_uri": "https://localhost:8080/",
     "height": 574
    },
    "id": "AeRxOf02pT_e",
    "outputId": "14bc3e07-751e-40eb-a51c-79b7b082e1d0"
   },
   "outputs": [
    {
     "data": {
      "image/png": "[encoded data removed]",
      "text/plain": [
       "<Figure size 1152x648 with 1 Axes>"
      ]
     },
     "metadata": {
      "needs_background": "light"
     },
     "output_type": "display_data"
    }
   ],
   "source": [
    "# plotting Adj Close price distribution of random ticker\n",
    "rand_ticker = random.choice(tickers)\n",
    "plt.plot(act_adj_close_df[rand_ticker].index.values, act_adj_close_df[rand_ticker].values)\n",
    "plt.xlabel('Date')\n",
    "plt.ylabel('Adj Close Price')\n",
    "plt.title(f'{rand_ticker} Adj Close Price')\n",
    "plt.show()"
   ]
  },
  {
   "cell_type": "code",
   "execution_count": 15,
   "metadata": {
    "colab": {
     "base_uri": "https://localhost:8080/",
     "height": 574
    },
    "id": "eQKMVtzpp5Bg",
    "outputId": "6c3160d5-2bf6-42e0-e73e-93977e1dceeb"
   },
   "outputs": [
    {
     "data": {
      "image/png": "[encoded data removed]",
      "text/plain": [
       "<Figure size 1152x648 with 1 Axes>"
      ]
     },
     "metadata": {
      "needs_background": "light"
     },
     "output_type": "display_data"
    }
   ],
   "source": [
    "# histogram\n",
    "plt.hist(act_adj_close_df[rand_ticker].values)\n",
    "plt.xlabel('Bin')\n",
    "plt.ylabel('Count')\n",
    "plt.title(f'{rand_ticker} Adj Close Price Histogram')\n",
    "plt.show()"
   ]
  },
  {
   "cell_type": "code",
   "execution_count": 16,
   "metadata": {
    "colab": {
     "base_uri": "https://localhost:8080/",
     "height": 574
    },
    "id": "8diQJKq9pmm5",
    "outputId": "7d1768f7-c196-4b2d-8eb2-88f111f993d1"
   },
   "outputs": [
    {
     "data": {
      "image/png": "[encoded data removed]",
      "text/plain": [
       "<Figure size 1152x648 with 1 Axes>"
      ]
     },
     "metadata": {
      "needs_background": "light"
     },
     "output_type": "display_data"
    }
   ],
   "source": [
    "# q-q plot\n",
    "qqplot(act_adj_close_df[rand_ticker].values, line='s')\n",
    "plt.title(f'{rand_ticker} Adj Close Price Q-Q Plot')\n",
    "plt.show()"
   ]
  },
  {
   "cell_type": "code",
   "execution_count": 17,
   "metadata": {
    "id": "6Mou9OiJva9Z"
   },
   "outputs": [],
   "source": [
    "act_adj_close_df.to_csv('act-adj-close-df.csv')"
   ]
  },
  {
   "cell_type": "markdown",
   "metadata": {
    "id": "T4IJaLZfRIJ6"
   },
   "source": [
    "### 3. Building LSTM model"
   ]
  },
  {
   "cell_type": "code",
   "execution_count": 18,
   "metadata": {},
   "outputs": [],
   "source": [
    "act_adj_close_df = pd.read_csv('data/act-adj-close-df.csv', index_col=0)\n",
    "act_adj_close_df.index = pd.to_datetime(act_adj_close_df.index)"
   ]
  },
  {
   "cell_type": "code",
   "execution_count": 19,
   "metadata": {},
   "outputs": [
    {
     "data": {
      "text/html": [
       "<div>\n",
       "<style scoped>\n",
       "    .dataframe tbody tr th:only-of-type {\n",
       "        vertical-align: middle;\n",
       "    }\n",
       "\n",
       "    .dataframe tbody tr th {\n",
       "        vertical-align: top;\n",
       "    }\n",
       "\n",
       "    .dataframe thead th {\n",
       "        text-align: right;\n",
       "    }\n",
       "</style>\n",
       "<table border=\"1\" class=\"dataframe\">\n",
       "  <thead>\n",
       "    <tr style=\"text-align: right;\">\n",
       "      <th></th>\n",
       "      <th>AAPL</th>\n",
       "      <th>MSFT</th>\n",
       "      <th>GOOG</th>\n",
       "      <th>AMZN</th>\n",
       "      <th>BRK-A</th>\n",
       "      <th>NVDA</th>\n",
       "      <th>V</th>\n",
       "      <th>JPM</th>\n",
       "      <th>UNH</th>\n",
       "      <th>JNJ</th>\n",
       "      <th>...</th>\n",
       "      <th>DIS</th>\n",
       "      <th>CVX</th>\n",
       "      <th>KO</th>\n",
       "      <th>AVGO</th>\n",
       "      <th>PEP</th>\n",
       "      <th>CSCO</th>\n",
       "      <th>WFC</th>\n",
       "      <th>COST</th>\n",
       "      <th>LLY</th>\n",
       "      <th>ADBE</th>\n",
       "    </tr>\n",
       "    <tr>\n",
       "      <th>Date</th>\n",
       "      <th></th>\n",
       "      <th></th>\n",
       "      <th></th>\n",
       "      <th></th>\n",
       "      <th></th>\n",
       "      <th></th>\n",
       "      <th></th>\n",
       "      <th></th>\n",
       "      <th></th>\n",
       "      <th></th>\n",
       "      <th></th>\n",
       "      <th></th>\n",
       "      <th></th>\n",
       "      <th></th>\n",
       "      <th></th>\n",
       "      <th></th>\n",
       "      <th></th>\n",
       "      <th></th>\n",
       "      <th></th>\n",
       "      <th></th>\n",
       "      <th></th>\n",
       "    </tr>\n",
       "  </thead>\n",
       "  <tbody>\n",
       "    <tr>\n",
       "      <th>2009-12-31</th>\n",
       "      <td>6.444381</td>\n",
       "      <td>23.493387</td>\n",
       "      <td>308.832428</td>\n",
       "      <td>134.520004</td>\n",
       "      <td>99200</td>\n",
       "      <td>4.289911</td>\n",
       "      <td>20.057911</td>\n",
       "      <td>30.619146</td>\n",
       "      <td>25.439573</td>\n",
       "      <td>44.963562</td>\n",
       "      <td>...</td>\n",
       "      <td>28.090706</td>\n",
       "      <td>47.191059</td>\n",
       "      <td>19.632374</td>\n",
       "      <td>13.908897</td>\n",
       "      <td>42.725761</td>\n",
       "      <td>17.431417</td>\n",
       "      <td>19.624825</td>\n",
       "      <td>43.977604</td>\n",
       "      <td>24.205421</td>\n",
       "      <td>36.779999</td>\n",
       "    </tr>\n",
       "    <tr>\n",
       "      <th>2010-01-04</th>\n",
       "      <td>6.544686</td>\n",
       "      <td>23.855658</td>\n",
       "      <td>312.204773</td>\n",
       "      <td>133.899994</td>\n",
       "      <td>99600</td>\n",
       "      <td>4.246276</td>\n",
       "      <td>20.213861</td>\n",
       "      <td>31.524036</td>\n",
       "      <td>26.315939</td>\n",
       "      <td>45.152031</td>\n",
       "      <td>...</td>\n",
       "      <td>27.933920</td>\n",
       "      <td>48.459877</td>\n",
       "      <td>19.646151</td>\n",
       "      <td>14.342362</td>\n",
       "      <td>43.034954</td>\n",
       "      <td>17.977512</td>\n",
       "      <td>19.864773</td>\n",
       "      <td>44.155975</td>\n",
       "      <td>24.279980</td>\n",
       "      <td>37.090000</td>\n",
       "    </tr>\n",
       "    <tr>\n",
       "      <th>2010-01-05</th>\n",
       "      <td>6.556004</td>\n",
       "      <td>23.863365</td>\n",
       "      <td>310.829926</td>\n",
       "      <td>134.690002</td>\n",
       "      <td>99710</td>\n",
       "      <td>4.308283</td>\n",
       "      <td>19.982225</td>\n",
       "      <td>32.134651</td>\n",
       "      <td>26.274208</td>\n",
       "      <td>44.628471</td>\n",
       "      <td>...</td>\n",
       "      <td>27.864235</td>\n",
       "      <td>48.803131</td>\n",
       "      <td>19.408495</td>\n",
       "      <td>14.448830</td>\n",
       "      <td>43.554989</td>\n",
       "      <td>17.897417</td>\n",
       "      <td>20.410110</td>\n",
       "      <td>44.022202</td>\n",
       "      <td>23.852945</td>\n",
       "      <td>37.700001</td>\n",
       "    </tr>\n",
       "    <tr>\n",
       "      <th>2010-01-06</th>\n",
       "      <td>6.451720</td>\n",
       "      <td>23.716915</td>\n",
       "      <td>302.994293</td>\n",
       "      <td>132.250000</td>\n",
       "      <td>99850</td>\n",
       "      <td>4.335841</td>\n",
       "      <td>19.713909</td>\n",
       "      <td>32.311211</td>\n",
       "      <td>26.532948</td>\n",
       "      <td>44.991478</td>\n",
       "      <td>...</td>\n",
       "      <td>27.716164</td>\n",
       "      <td>48.809258</td>\n",
       "      <td>19.401613</td>\n",
       "      <td>14.562894</td>\n",
       "      <td>43.119297</td>\n",
       "      <td>17.780920</td>\n",
       "      <td>20.439198</td>\n",
       "      <td>44.594498</td>\n",
       "      <td>24.029184</td>\n",
       "      <td>37.619999</td>\n",
       "    </tr>\n",
       "    <tr>\n",
       "      <th>2010-01-07</th>\n",
       "      <td>6.439794</td>\n",
       "      <td>23.470270</td>\n",
       "      <td>295.940735</td>\n",
       "      <td>130.000000</td>\n",
       "      <td>100000</td>\n",
       "      <td>4.250867</td>\n",
       "      <td>19.897379</td>\n",
       "      <td>32.951263</td>\n",
       "      <td>27.551197</td>\n",
       "      <td>44.670376</td>\n",
       "      <td>...</td>\n",
       "      <td>27.724874</td>\n",
       "      <td>48.625378</td>\n",
       "      <td>19.353386</td>\n",
       "      <td>14.471641</td>\n",
       "      <td>42.845226</td>\n",
       "      <td>17.861012</td>\n",
       "      <td>21.180857</td>\n",
       "      <td>44.378941</td>\n",
       "      <td>23.907177</td>\n",
       "      <td>36.889999</td>\n",
       "    </tr>\n",
       "    <tr>\n",
       "      <th>...</th>\n",
       "      <td>...</td>\n",
       "      <td>...</td>\n",
       "      <td>...</td>\n",
       "      <td>...</td>\n",
       "      <td>...</td>\n",
       "      <td>...</td>\n",
       "      <td>...</td>\n",
       "      <td>...</td>\n",
       "      <td>...</td>\n",
       "      <td>...</td>\n",
       "      <td>...</td>\n",
       "      <td>...</td>\n",
       "      <td>...</td>\n",
       "      <td>...</td>\n",
       "      <td>...</td>\n",
       "      <td>...</td>\n",
       "      <td>...</td>\n",
       "      <td>...</td>\n",
       "      <td>...</td>\n",
       "      <td>...</td>\n",
       "      <td>...</td>\n",
       "    </tr>\n",
       "    <tr>\n",
       "      <th>2021-12-27</th>\n",
       "      <td>180.100540</td>\n",
       "      <td>341.743378</td>\n",
       "      <td>2961.280029</td>\n",
       "      <td>3393.389893</td>\n",
       "      <td>447110</td>\n",
       "      <td>309.450012</td>\n",
       "      <td>217.276505</td>\n",
       "      <td>157.217621</td>\n",
       "      <td>499.500000</td>\n",
       "      <td>168.587799</td>\n",
       "      <td>...</td>\n",
       "      <td>152.800003</td>\n",
       "      <td>117.555779</td>\n",
       "      <td>58.650002</td>\n",
       "      <td>674.280029</td>\n",
       "      <td>171.470001</td>\n",
       "      <td>63.048477</td>\n",
       "      <td>48.552006</td>\n",
       "      <td>562.617249</td>\n",
       "      <td>277.252625</td>\n",
       "      <td>577.679993</td>\n",
       "    </tr>\n",
       "    <tr>\n",
       "      <th>2021-12-28</th>\n",
       "      <td>179.061859</td>\n",
       "      <td>340.545837</td>\n",
       "      <td>2928.959961</td>\n",
       "      <td>3413.219971</td>\n",
       "      <td>449570</td>\n",
       "      <td>303.220001</td>\n",
       "      <td>217.695831</td>\n",
       "      <td>157.694748</td>\n",
       "      <td>502.940002</td>\n",
       "      <td>169.263474</td>\n",
       "      <td>...</td>\n",
       "      <td>155.199997</td>\n",
       "      <td>117.328163</td>\n",
       "      <td>58.880001</td>\n",
       "      <td>669.000000</td>\n",
       "      <td>172.360001</td>\n",
       "      <td>63.157833</td>\n",
       "      <td>48.203568</td>\n",
       "      <td>563.785522</td>\n",
       "      <td>275.280853</td>\n",
       "      <td>569.359985</td>\n",
       "    </tr>\n",
       "    <tr>\n",
       "      <th>2021-12-29</th>\n",
       "      <td>179.151749</td>\n",
       "      <td>341.244415</td>\n",
       "      <td>2930.090088</td>\n",
       "      <td>3384.020020</td>\n",
       "      <td>452102</td>\n",
       "      <td>300.010010</td>\n",
       "      <td>217.815628</td>\n",
       "      <td>157.615234</td>\n",
       "      <td>505.579987</td>\n",
       "      <td>170.455811</td>\n",
       "      <td>...</td>\n",
       "      <td>154.869995</td>\n",
       "      <td>116.724495</td>\n",
       "      <td>58.950001</td>\n",
       "      <td>672.609985</td>\n",
       "      <td>172.970001</td>\n",
       "      <td>63.585312</td>\n",
       "      <td>48.233437</td>\n",
       "      <td>566.910767</td>\n",
       "      <td>277.262573</td>\n",
       "      <td>569.289978</td>\n",
       "    </tr>\n",
       "    <tr>\n",
       "      <th>2021-12-30</th>\n",
       "      <td>177.973251</td>\n",
       "      <td>338.619843</td>\n",
       "      <td>2920.050049</td>\n",
       "      <td>3372.889893</td>\n",
       "      <td>452700</td>\n",
       "      <td>295.859985</td>\n",
       "      <td>217.516113</td>\n",
       "      <td>157.535706</td>\n",
       "      <td>504.429993</td>\n",
       "      <td>171.210968</td>\n",
       "      <td>...</td>\n",
       "      <td>155.929993</td>\n",
       "      <td>116.209908</td>\n",
       "      <td>58.779999</td>\n",
       "      <td>665.080017</td>\n",
       "      <td>172.669998</td>\n",
       "      <td>63.247307</td>\n",
       "      <td>47.884998</td>\n",
       "      <td>563.056580</td>\n",
       "      <td>276.097443</td>\n",
       "      <td>570.530029</td>\n",
       "    </tr>\n",
       "    <tr>\n",
       "      <th>2021-12-31</th>\n",
       "      <td>177.344055</td>\n",
       "      <td>335.626038</td>\n",
       "      <td>2893.590088</td>\n",
       "      <td>3334.340088</td>\n",
       "      <td>450662</td>\n",
       "      <td>294.109985</td>\n",
       "      <td>216.358002</td>\n",
       "      <td>157.406494</td>\n",
       "      <td>502.140015</td>\n",
       "      <td>169.978882</td>\n",
       "      <td>...</td>\n",
       "      <td>154.889999</td>\n",
       "      <td>116.130737</td>\n",
       "      <td>59.209999</td>\n",
       "      <td>665.409973</td>\n",
       "      <td>173.710007</td>\n",
       "      <td>62.998768</td>\n",
       "      <td>47.765533</td>\n",
       "      <td>566.840881</td>\n",
       "      <td>275.071716</td>\n",
       "      <td>567.059998</td>\n",
       "    </tr>\n",
       "  </tbody>\n",
       "</table>\n",
       "<p>3022 rows × 27 columns</p>\n",
       "</div>"
      ],
      "text/plain": [
       "                  AAPL        MSFT         GOOG         AMZN   BRK-A  \\\n",
       "Date                                                                   \n",
       "2009-12-31    6.444381   23.493387   308.832428   134.520004   99200   \n",
       "2010-01-04    6.544686   23.855658   312.204773   133.899994   99600   \n",
       "2010-01-05    6.556004   23.863365   310.829926   134.690002   99710   \n",
       "2010-01-06    6.451720   23.716915   302.994293   132.250000   99850   \n",
       "2010-01-07    6.439794   23.470270   295.940735   130.000000  100000   \n",
       "...                ...         ...          ...          ...     ...   \n",
       "2021-12-27  180.100540  341.743378  2961.280029  3393.389893  447110   \n",
       "2021-12-28  179.061859  340.545837  2928.959961  3413.219971  449570   \n",
       "2021-12-29  179.151749  341.244415  2930.090088  3384.020020  452102   \n",
       "2021-12-30  177.973251  338.619843  2920.050049  3372.889893  452700   \n",
       "2021-12-31  177.344055  335.626038  2893.590088  3334.340088  450662   \n",
       "\n",
       "                  NVDA           V         JPM         UNH         JNJ  ...  \\\n",
       "Date                                                                    ...   \n",
       "2009-12-31    4.289911   20.057911   30.619146   25.439573   44.963562  ...   \n",
       "2010-01-04    4.246276   20.213861   31.524036   26.315939   45.152031  ...   \n",
       "2010-01-05    4.308283   19.982225   32.134651   26.274208   44.628471  ...   \n",
       "2010-01-06    4.335841   19.713909   32.311211   26.532948   44.991478  ...   \n",
       "2010-01-07    4.250867   19.897379   32.951263   27.551197   44.670376  ...   \n",
       "...                ...         ...         ...         ...         ...  ...   \n",
       "2021-12-27  309.450012  217.276505  157.217621  499.500000  168.587799  ...   \n",
       "2021-12-28  303.220001  217.695831  157.694748  502.940002  169.263474  ...   \n",
       "2021-12-29  300.010010  217.815628  157.615234  505.579987  170.455811  ...   \n",
       "2021-12-30  295.859985  217.516113  157.535706  504.429993  171.210968  ...   \n",
       "2021-12-31  294.109985  216.358002  157.406494  502.140015  169.978882  ...   \n",
       "\n",
       "                   DIS         CVX         KO        AVGO         PEP  \\\n",
       "Date                                                                    \n",
       "2009-12-31   28.090706   47.191059  19.632374   13.908897   42.725761   \n",
       "2010-01-04   27.933920   48.459877  19.646151   14.342362   43.034954   \n",
       "2010-01-05   27.864235   48.803131  19.408495   14.448830   43.554989   \n",
       "2010-01-06   27.716164   48.809258  19.401613   14.562894   43.119297   \n",
       "2010-01-07   27.724874   48.625378  19.353386   14.471641   42.845226   \n",
       "...                ...         ...        ...         ...         ...   \n",
       "2021-12-27  152.800003  117.555779  58.650002  674.280029  171.470001   \n",
       "2021-12-28  155.199997  117.328163  58.880001  669.000000  172.360001   \n",
       "2021-12-29  154.869995  116.724495  58.950001  672.609985  172.970001   \n",
       "2021-12-30  155.929993  116.209908  58.779999  665.080017  172.669998   \n",
       "2021-12-31  154.889999  116.130737  59.209999  665.409973  173.710007   \n",
       "\n",
       "                 CSCO        WFC        COST         LLY        ADBE  \n",
       "Date                                                                  \n",
       "2009-12-31  17.431417  19.624825   43.977604   24.205421   36.779999  \n",
       "2010-01-04  17.977512  19.864773   44.155975   24.279980   37.090000  \n",
       "2010-01-05  17.897417  20.410110   44.022202   23.852945   37.700001  \n",
       "2010-01-06  17.780920  20.439198   44.594498   24.029184   37.619999  \n",
       "2010-01-07  17.861012  21.180857   44.378941   23.907177   36.889999  \n",
       "...               ...        ...         ...         ...         ...  \n",
       "2021-12-27  63.048477  48.552006  562.617249  277.252625  577.679993  \n",
       "2021-12-28  63.157833  48.203568  563.785522  275.280853  569.359985  \n",
       "2021-12-29  63.585312  48.233437  566.910767  277.262573  569.289978  \n",
       "2021-12-30  63.247307  47.884998  563.056580  276.097443  570.530029  \n",
       "2021-12-31  62.998768  47.765533  566.840881  275.071716  567.059998  \n",
       "\n",
       "[3022 rows x 27 columns]"
      ]
     },
     "execution_count": 19,
     "metadata": {},
     "output_type": "execute_result"
    }
   ],
   "source": [
    "act_adj_close_df"
   ]
  },
  {
   "cell_type": "code",
   "execution_count": 20,
   "metadata": {
    "id": "R0zOiqMiGhzL"
   },
   "outputs": [],
   "source": [
    "# selecting gpu\n",
    "device = torch.device('cuda')"
   ]
  },
  {
   "cell_type": "code",
   "execution_count": 21,
   "metadata": {
    "id": "7c7LbVqPGozb"
   },
   "outputs": [],
   "source": [
    "class LSTM_model(nn.Module):\n",
    "    def __init__(self, input_size, hidden_size, num_layers, num_classes):\n",
    "        super(LSTM_model, self).__init__()\n",
    "        self.input_size = input_size # number of features\n",
    "        self.hidden_size = hidden_size # number of features in hidden state\n",
    "        self.num_layers = num_layers # number of stacked LSTM layers\n",
    "        self.num_classes = num_classes # number of output classes\n",
    "    \n",
    "        self.lstm = nn.LSTM(input_size=input_size, hidden_size=hidden_size, \n",
    "                            num_layers=num_layers, batch_first=True) # LSTM layer\n",
    "        self.fc = nn.Linear(hidden_size, num_classes) # fully connected last layer\n",
    "\n",
    "    def forward(self, x):\n",
    "        h0 = Variable(torch.zeros(self.num_layers, x.size(0), \n",
    "                                  self.hidden_size)).to(device) # hidden state\n",
    "        c0 = Variable(torch.zeros(self.num_layers, x.size(0), \n",
    "                                  self.hidden_size)).to(device) # internal state\n",
    "        # propagating input through LSTM\n",
    "        out, _ = self.lstm(x, (h0, c0)) # out: tensor of shape (seq_length, batch_size, hidden_size)\n",
    "        # decoding hidden state of last time step\n",
    "        out = self.fc(out[:, -1, :])\n",
    "        return out"
   ]
  },
  {
   "cell_type": "code",
   "execution_count": 22,
   "metadata": {},
   "outputs": [],
   "source": [
    "import torch\n",
    "import torch.nn as nn\n",
    "import copy\n",
    "import math\n",
    "import torch.nn.functional as F\n",
    "from torch.autograd import Variable\n",
    "\n",
    "device = 'cpu' #torch.device('cuda' if torch.cuda.is_available() else 'cpu')\n",
    "\n",
    "\n",
    "def creatMask(batch, sequence_length):\n",
    "    mask = torch.zeros(batch, sequence_length, sequence_length)\n",
    "    for i in range(sequence_length):\n",
    "        mask[:, i, :i + 1] = 1\n",
    "    return mask\n",
    "\n",
    "\n",
    "class Norm(nn.Module):\n",
    "    def __init__(self, d_model, eps=1e-6):\n",
    "        super().__init__()\n",
    "\n",
    "        self.size = d_model\n",
    "\n",
    "        # create two learnable parameters to calibrate normalisation\n",
    "        self.alpha = nn.Parameter(torch.ones(self.size))\n",
    "        self.bias = nn.Parameter(torch.zeros(self.size))\n",
    "\n",
    "        self.eps = eps\n",
    "\n",
    "    def forward(self, x):\n",
    "        norm = self.alpha * (x - x.mean(dim=-1, keepdim=True)) \\\n",
    "               / (x.std(dim=-1, keepdim=True) + self.eps) + self.bias\n",
    "        return norm\n",
    "\n",
    "\n",
    "def attention(q, k, v, d_k, mask=None, dropout=None, returnWeights=False):\n",
    "    scores = torch.matmul(q, k.transpose(-2, -1)) / math.sqrt(d_k)\n",
    "\n",
    "    if mask is not None:\n",
    "        mask = mask.unsqueeze(1)\n",
    "        scores = scores.masked_fill(mask == 0, -1e9)\n",
    "\n",
    "    scores = F.softmax(scores, dim=-1)\n",
    "\n",
    "    if dropout is not None:\n",
    "        scores = dropout(scores)\n",
    "    output = torch.matmul(scores, v)\n",
    "    # print(\"Scores in attention itself\",torch.sum(scores))\n",
    "    if (returnWeights):\n",
    "        return output, scores\n",
    "\n",
    "    return output\n",
    "\n",
    "\n",
    "class MultiHeadAttention(nn.Module):\n",
    "    def __init__(self, heads, d_model, dropout=0.1):\n",
    "        super().__init__()\n",
    "\n",
    "        self.d_model = d_model\n",
    "        self.d_k = d_model // heads\n",
    "        self.h = heads\n",
    "\n",
    "        self.q_linear = nn.Linear(d_model, d_model)\n",
    "        self.v_linear = nn.Linear(d_model, d_model)\n",
    "        self.k_linear = nn.Linear(d_model, d_model)\n",
    "\n",
    "        self.dropout = nn.Dropout(dropout)\n",
    "        self.out = nn.Linear(d_model, d_model)\n",
    "\n",
    "    def forward(self, q, k, v, mask=None, returnWeights=False):\n",
    "\n",
    "        bs = q.size(0)\n",
    "\n",
    "        # perform linear operation and split into N heads\n",
    "        k = self.k_linear(k).view(bs, -1, self.h, self.d_k)\n",
    "        q = self.q_linear(q).view(bs, -1, self.h, self.d_k)\n",
    "        v = self.v_linear(v).view(bs, -1, self.h, self.d_k)\n",
    "\n",
    "        # transpose to get dimensions bs * N * sl * d_model\n",
    "        k = k.transpose(1, 2)\n",
    "        q = q.transpose(1, 2)\n",
    "        v = v.transpose(1, 2)\n",
    "        # calculate attention using function we will define next\n",
    "\n",
    "        if (returnWeights):\n",
    "            scores, weights = attention(q, k, v, self.d_k, mask, self.dropout, returnWeights=returnWeights)\n",
    "            # print(\"scores\",scores.shape,\"weights\",weights.shape)\n",
    "        else:\n",
    "            scores = attention(q, k, v, self.d_k, mask, self.dropout)\n",
    "\n",
    "        # concatenate heads and put through final linear layer\n",
    "        concat = scores.transpose(1, 2).contiguous() \\\n",
    "            .view(bs, -1, self.d_model)\n",
    "        output = self.out(concat)\n",
    "        # print(\"Attention output\", output.shape,torch.min(output))\n",
    "        if (returnWeights):\n",
    "            return output, weights\n",
    "        else:\n",
    "            return output\n",
    "\n",
    "\n",
    "class FeedForward(nn.Module):\n",
    "    def __init__(self, d_model, d_ff=400, dropout=0.1):\n",
    "        super().__init__()\n",
    "\n",
    "        self.linear_1 = nn.Linear(d_model, d_ff)\n",
    "        self.dropout = nn.Dropout(dropout)\n",
    "        self.linear_2 = nn.Linear(d_ff, d_model)\n",
    "\n",
    "    def forward(self, x):\n",
    "        x = self.dropout(F.relu(self.linear_1(x)))\n",
    "        x = self.linear_2(x)\n",
    "        return x\n",
    "\n",
    "\n",
    "class EncoderLayer(nn.Module):\n",
    "    def __init__(self, d_model, heads, dropout=0.1):\n",
    "        super().__init__()\n",
    "        self.norm_1 = Norm(d_model)\n",
    "        self.norm_2 = Norm(d_model)\n",
    "        self.attn = MultiHeadAttention(heads, d_model, dropout=dropout)\n",
    "        self.ff = FeedForward(d_model, dropout=dropout)\n",
    "        self.dropout_1 = nn.Dropout(dropout)\n",
    "        self.dropout_2 = nn.Dropout(dropout)\n",
    "\n",
    "    def forward(self, x, mask=None, returnWeights=False):\n",
    "        x2 = self.norm_1(x)\n",
    "        # print(x2[0,0,0])\n",
    "        # print(\"attention input.shape\",x2.shape)\n",
    "        if (returnWeights):\n",
    "            attenOutput, attenWeights = self.attn(x2, x2, x2, mask, returnWeights=returnWeights)\n",
    "        else:\n",
    "            attenOutput = self.attn(x2, x2, x2, mask)\n",
    "        # print(\"attenOutput\",attenOutput.shape)\n",
    "        x = x + self.dropout_1(attenOutput)\n",
    "        x2 = self.norm_2(x)\n",
    "        x = x + self.dropout_2(self.ff(x2))\n",
    "        if (returnWeights):\n",
    "            return x, attenWeights\n",
    "        else:\n",
    "            return x\n",
    "\n",
    "\n",
    "class PositionalEncoder(nn.Module):\n",
    "    def __init__(self, d_model, max_seq_len=100, dropout=0.1):\n",
    "        super().__init__()\n",
    "        self.d_model = d_model\n",
    "        self.dropout = nn.Dropout(dropout)\n",
    "        # create constant 'pe' matrix with values dependant on\n",
    "        # pos and i\n",
    "        pe = torch.zeros(max_seq_len, d_model)\n",
    "        for pos in range(max_seq_len):\n",
    "            for i in range(0, d_model, 2):\n",
    "                pe[pos, i] = \\\n",
    "                    math.sin(pos / (10000 ** ((2 * i) / d_model)))\n",
    "                if (i + 1) < d_model:\n",
    "                    pe[pos, i + 1] = \\\n",
    "                        math.cos(pos / (10000 ** ((2 * (i + 1)) / d_model)))\n",
    "        pe = pe.unsqueeze(0)\n",
    "        self.register_buffer('pe', pe)\n",
    "\n",
    "    def forward(self, x):\n",
    "        # make embeddings relatively larger\n",
    "        x = x * math.sqrt(self.d_model)\n",
    "        # add constant to embedding\n",
    "        seq_len = x.size(1)\n",
    "\n",
    "        pe = Variable(self.pe[:, :seq_len], requires_grad=False)\n",
    "\n",
    "        if x.is_cuda:\n",
    "            pe.cuda()\n",
    "        x = x + pe\n",
    "        return self.dropout(x)\n",
    "\n",
    "\n",
    "def get_clones(module, N):\n",
    "    return nn.ModuleList([copy.deepcopy(module) for i in range(N)])\n",
    "\n",
    "\n",
    "class Encoder(nn.Module):\n",
    "    def __init__(self, input_size, seq_len, N, heads, dropout):\n",
    "        super().__init__()\n",
    "        self.N = N\n",
    "        self.pe = PositionalEncoder(input_size, seq_len, dropout=dropout)\n",
    "        self.layers = get_clones(EncoderLayer(input_size, heads, dropout), N)\n",
    "        self.norm = Norm(input_size)\n",
    "\n",
    "    def forward(self, x, mask=None, returnWeights=False):\n",
    "        x = self.pe(x)\n",
    "\n",
    "        for i in range(self.N):\n",
    "            if (i == 0 and returnWeights):\n",
    "                x, weights = self.layers[i](x, mask=mask, returnWeights=returnWeights)\n",
    "            else:\n",
    "                # print(i)\n",
    "                x = self.layers[i](x, mask=mask)\n",
    "\n",
    "        if (returnWeights):\n",
    "            return self.norm(x), weights\n",
    "        else:\n",
    "            return self.norm(x)\n",
    "\n",
    "\n",
    "class Transformer(nn.Module):\n",
    "    def __init__(self, n_feature, n_timestep, n_layer, n_head, n_dropout, n_output, lb, ub):\n",
    "        super().__init__()\n",
    "        self.encoder = Encoder(n_feature, n_timestep, n_layer, n_head, n_dropout)\n",
    "        self.out = nn.Linear(n_feature, n_output)\n",
    "        self.tempmaxpool = nn.MaxPool1d(n_timestep)\n",
    "        self.lb = lb\n",
    "        self.ub = ub\n",
    "\n",
    "    def forward(self, src, returnWeights=False):\n",
    "        mask = creatMask(src.shape[0], src.shape[1]).to(device)\n",
    "        # print(src.shape)\n",
    "        if (returnWeights):\n",
    "            e_outputs, weights, z = self.encoder(src, mask, returnWeights=returnWeights)\n",
    "        else:\n",
    "            e_outputs = self.encoder(src, mask)\n",
    "\n",
    "        e_outputs = self.tempmaxpool(e_outputs.transpose(1, 2)).squeeze(-1)\n",
    "        output = self.out(e_outputs)\n",
    "        output = F.softmax(output, dim=1)\n",
    "        output = torch.stack([self.rebalance(batch, self.lb, self.ub) for batch in output])\n",
    "        if (returnWeights):\n",
    "            return output, weights\n",
    "        else:\n",
    "            return output\n",
    "\n",
    "    def rebalance(self, weight, lb, ub):\n",
    "        old = weight\n",
    "        weight_clamped = torch.clamp(old, lb, ub)\n",
    "        while True:\n",
    "            leftover = (old - weight_clamped).sum().item()\n",
    "            nominees = weight_clamped[torch.where(weight_clamped != ub)[0]]\n",
    "            gift = leftover * (nominees / nominees.sum())\n",
    "            weight_clamped[torch.where(weight_clamped != ub)[0]] += gift\n",
    "            old = weight_clamped\n",
    "            if len(torch.where(weight_clamped > ub)[0]) == 0:\n",
    "                break\n",
    "            else:\n",
    "                weight_clamped = torch.clamp(old, lb, ub)\n",
    "        return weight_clamped"
   ]
  },
  {
   "cell_type": "code",
   "execution_count": 36,
   "metadata": {
    "id": "t2k9X3kukdnE"
   },
   "outputs": [],
   "source": [
    "# function for building model\n",
    "def build_model(input_size=1, hidden_size=1, num_layers=1, num_classes=1, learning_rate=0.001):\n",
    "    # learning rate controls how much to change model in response to estm error \n",
    "    # each time model weights are updated\n",
    "    \n",
    "    model = LSTM_model(input_size, hidden_size, num_layers, num_classes).to(device)\n",
    "    #model = Transformer(input_size, time_step, num_layers, 1, 0.1, num_classes, learning_rate, 0.2)\n",
    "    \n",
    "    optimizer = torch.optim.Adam(model.parameters(), lr=learning_rate) # adam optimizer\n",
    "    # algorithms/methods to change attributes of neural network such as weights and learning rate to reduce losses\n",
    "\n",
    "    loss_function = torch.nn.MSELoss() # mean-squared error of regression\n",
    "    # loss function measures how bad model performs: high loss -> low accuracy\n",
    "\n",
    "    # loading model state\n",
    "    # model = LSTM_model(*args, **kwargs)\n",
    "    # model.load_state_dict(torch.load(PATH))\n",
    "    # model.eval()\n",
    "\n",
    "    return model, optimizer, loss_function"
   ]
  },
  {
   "cell_type": "markdown",
   "metadata": {
    "id": "UjsxzyVpSBCk"
   },
   "source": [
    "### 4. Model fitting and evaluation"
   ]
  },
  {
   "cell_type": "code",
   "execution_count": 24,
   "metadata": {
    "id": "rtHn7Samb1R3"
   },
   "outputs": [],
   "source": [
    "# scaler for normalizing dataset\n",
    "scaler = MinMaxScaler()"
   ]
  },
  {
   "cell_type": "code",
   "execution_count": 25,
   "metadata": {
    "id": "FmJ2pj7es0rd"
   },
   "outputs": [],
   "source": [
    "# function for creating X and y\n",
    "def create_xy(data, time_step=1):\n",
    "    X, y = [], []\n",
    "    for i in range(len(data) - time_step - 1):\n",
    "        X.append(data[i:i + time_step])\n",
    "        y.append(data[i + time_step])\n",
    "    return np.array(X), np.array(y)"
   ]
  },
  {
   "cell_type": "code",
   "execution_count": 26,
   "metadata": {
    "id": "R46ZfGWA4Ite"
   },
   "outputs": [],
   "source": [
    "time_step = 100"
   ]
  },
  {
   "cell_type": "code",
   "execution_count": 27,
   "metadata": {
    "id": "awnVJibRel4y"
   },
   "outputs": [],
   "source": [
    "# dataframes for model loss, predicted Adj Close price and model performance\n",
    "model_loss_df = pd.DataFrame(index=[epoch for epoch in range(0, 11000, 1000)], columns=tickers)\n",
    "#pred_adj_close_df = pd.DataFrame(index=df.index[time_step + 1:], columns=tickers)\n",
    "pred_adj_close_df = pd.DataFrame(index=act_adj_close_df.index[time_step + 1:], columns=tickers)\n",
    "model_perf_df = pd.DataFrame(index=['MAE', 'MSE', 'RMSE', 'MAPE', 'MPE'], columns=tickers)"
   ]
  },
  {
   "cell_type": "code",
   "execution_count": 28,
   "metadata": {
    "id": "6Hlj6JtRGxwL"
   },
   "outputs": [],
   "source": [
    "# functions for model performance evaluation\n",
    "def MAE(y_true, y_hat):\n",
    "    return np.mean(np.abs(y_true - y_hat))\n",
    "\n",
    "def MSE(y_true, y_hat):\n",
    "    return np.mean(np.square(y_true - y_hat))\n",
    "\n",
    "def RMSE(y_true, y_hat):\n",
    "    return np.sqrt(MSE(y_true, y_hat))\n",
    "\n",
    "def MAPE(y_true, y_hat):\n",
    "    return np.mean(np.abs((y_true - y_hat) / y_true)) * 100\n",
    "\n",
    "def MPE(y_true, y_hat):\n",
    "    return np.mean((y_true - y_hat) / y_true) * 100"
   ]
  },
  {
   "cell_type": "code",
   "execution_count": 55,
   "metadata": {
    "id": "kdJ2ef0RIvsG"
   },
   "outputs": [],
   "source": [
    "# function for fitting model\n",
    "def fit_model(ticker, X_train, y_train):\n",
    "    model, optimizer, loss_function = build_model()\n",
    "    num_epochs = 1000\n",
    "    \n",
    "    loss_list = []\n",
    "\n",
    "    for epoch in range(num_epochs + 1):\n",
    "        outputs = model.forward(X_train.to(device)) # forward pass\n",
    "        optimizer.zero_grad() # calculating gradient, manually setting to 0\n",
    "        loss = loss_function(outputs, y_train.to(device)) # obtaining loss\n",
    "        loss.backward() # calculating loss of loss function\n",
    "        optimizer.step() # improving from loss, i.e. backprop\n",
    "        \n",
    "        if epoch % 100 == 0:\n",
    "            loss_list.append(loss.item())\n",
    "    \n",
    "    model_loss_df[ticker] = loss_list\n",
    "\n",
    "    # saving model state\n",
    "    torch.save(model.state_dict(), f'data/model-states/{ticker}-model-state.pth')\n",
    "    \n",
    "    return model"
   ]
  },
  {
   "cell_type": "code",
   "execution_count": 30,
   "metadata": {},
   "outputs": [
    {
     "data": {
      "text/plain": [
       "['AAPL']"
      ]
     },
     "execution_count": 30,
     "metadata": {},
     "output_type": "execute_result"
    }
   ],
   "source": [
    "[tickers[0]]"
   ]
  },
  {
   "cell_type": "raw",
   "metadata": {},
   "source": [
    "tickers = tickers1\n",
    "tickers"
   ]
  },
  {
   "cell_type": "code",
   "execution_count": 32,
   "metadata": {},
   "outputs": [
    {
     "data": {
      "text/plain": [
       "100"
      ]
     },
     "execution_count": 32,
     "metadata": {},
     "output_type": "execute_result"
    }
   ],
   "source": [
    "time_step"
   ]
  },
  {
   "cell_type": "code",
   "execution_count": 56,
   "metadata": {
    "colab": {
     "base_uri": "https://localhost:8080/"
    },
    "id": "EQkPmRv5Jyez",
    "outputId": "cc0752fa-7aa8-4e35-8cef-b6f5283c7d65"
   },
   "outputs": [
    {
     "name": "stdout",
     "output_type": "stream",
     "text": [
      "----------\n",
      "AAPL fitting...\n",
      "1 left\n",
      "Done!\n",
      "----------\n",
      "MSFT fitting...\n",
      "0 left\n",
      "Done!\n"
     ]
    }
   ],
   "source": [
    "# fitting models and predicting responses\n",
    "for ticker in tickers:\n",
    "#for ticker in [tickers[0]]:\n",
    "    # normalizing dataset\n",
    "    norm_act_adj_close = scaler.fit_transform(np.array(act_adj_close_df[ticker]).reshape(-1, 1))\n",
    "\n",
    "    # if ticker == 'ABBV':\n",
    "    #     train_set, val_set = norm_act_adj_close[:abbv_split], norm_act_adj_close[abbv_split:]\n",
    "    # elif ticker == 'FB':\n",
    "    #     train_set, val_set = norm_act_adj_close[:fb_split], norm_act_adj_close[fb_split:]\n",
    "    # elif ticker == 'TSLA':\n",
    "    #     train_set, val_set = norm_act_adj_close[:tsla_split], norm_act_adj_close[tsla_split:]\n",
    "    # else:\n",
    "    train_set, val_set = norm_act_adj_close[:all_split], norm_act_adj_close[all_split:]\n",
    "\n",
    "    X_train, y_train = create_xy(train_set, time_step)\n",
    "    X_val, y_val = create_xy(norm_act_adj_close, time_step)\n",
    "\n",
    "    # converting datasets to tensors\n",
    "    X_train_tensors = Variable(torch.Tensor(X_train))\n",
    "    y_train_tensors = Variable(torch.Tensor(y_train))\n",
    "\n",
    "    X_val_tensors = Variable(torch.Tensor(X_val))\n",
    "    y_true = scaler.inverse_transform(y_val) # inverse transformation\n",
    "    \n",
    "    # fitting model\n",
    "    print('----------')\n",
    "    print(f'{ticker} fitting...')\n",
    "    print(f'{len(tickers) - (tickers.index(ticker) + 1)} left')\n",
    "    model = fit_model(ticker=ticker, X_train=X_train_tensors, y_train=y_train_tensors)\n",
    "\n",
    "    # predicting response\n",
    "    y_hat = model(X_val_tensors.to(device)) # forward pass\n",
    "    y_hat = y_hat.data.detach().cpu().numpy() # numpy conversion\n",
    "    y_hat = scaler.inverse_transform(y_hat) # inverse transformation\n",
    "    print('Done!')\n",
    "    \n",
    "    pred_adj_close_df[ticker] = y_hat\n",
    "    \n",
    "    model_perf_df[ticker] = [MAE(y_true, y_hat), MSE(y_true, y_hat), RMSE(y_true, y_hat), \n",
    "                             MAPE(y_true, y_hat), MPE(y_true, y_hat)]"
   ]
  },
  {
   "cell_type": "code",
   "execution_count": 57,
   "metadata": {},
   "outputs": [
    {
     "data": {
      "text/plain": [
       "(2517, 1)"
      ]
     },
     "execution_count": 57,
     "metadata": {},
     "output_type": "execute_result"
    }
   ],
   "source": [
    "train_set.shape"
   ]
  },
  {
   "cell_type": "code",
   "execution_count": 39,
   "metadata": {},
   "outputs": [
    {
     "data": {
      "text/plain": [
       "(2416, 100, 1)"
      ]
     },
     "execution_count": 39,
     "metadata": {},
     "output_type": "execute_result"
    }
   ],
   "source": [
    "X_train.shape"
   ]
  },
  {
   "cell_type": "code",
   "execution_count": 58,
   "metadata": {},
   "outputs": [
    {
     "data": {
      "text/plain": [
       "(2416, 1)"
      ]
     },
     "execution_count": 58,
     "metadata": {},
     "output_type": "execute_result"
    }
   ],
   "source": [
    "y_train.shape"
   ]
  },
  {
   "cell_type": "raw",
   "metadata": {},
   "source": [
    "tickers1 = tickers\n",
    "tickers = [tickers[0]]"
   ]
  },
  {
   "cell_type": "code",
   "execution_count": 59,
   "metadata": {},
   "outputs": [
    {
     "data": {
      "text/plain": [
       "array([  6.44438124,   6.54468632,   6.55600357, ..., 179.15174866,\n",
       "       177.97325134, 177.34405518])"
      ]
     },
     "execution_count": 59,
     "metadata": {},
     "output_type": "execute_result"
    }
   ],
   "source": [
    "np.array(act_adj_close_df[tickers[0]])"
   ]
  },
  {
   "cell_type": "code",
   "execution_count": 60,
   "metadata": {},
   "outputs": [
    {
     "data": {
      "text/plain": [
       "Date\n",
       "2010-05-27    26.566896\n",
       "2010-05-28    26.566523\n",
       "2010-06-01    26.567516\n",
       "2010-06-02    26.569958\n",
       "2010-06-03    26.572481\n",
       "                ...    \n",
       "2021-12-27    53.988678\n",
       "2021-12-28    54.038582\n",
       "2021-12-29    54.149117\n",
       "2021-12-30    54.181973\n",
       "2021-12-31    54.203022\n",
       "Name: AAPL, Length: 2921, dtype: float32"
      ]
     },
     "execution_count": 60,
     "metadata": {},
     "output_type": "execute_result"
    }
   ],
   "source": [
    "pred_adj_close_df[tickers[0]]"
   ]
  },
  {
   "cell_type": "code",
   "execution_count": 61,
   "metadata": {},
   "outputs": [
    {
     "data": {
      "text/plain": [
       "torch.Size([2416, 100, 1])"
      ]
     },
     "execution_count": 61,
     "metadata": {},
     "output_type": "execute_result"
    }
   ],
   "source": [
    "X_train_tensors.shape"
   ]
  },
  {
   "cell_type": "markdown",
   "metadata": {
    "id": "Cy2mSy3YCEGy"
   },
   "source": [
    "### 5. Results"
   ]
  },
  {
   "cell_type": "code",
   "execution_count": 62,
   "metadata": {
    "colab": {
     "base_uri": "https://localhost:8080/",
     "height": 574
    },
    "id": "2Lpm-xiJ2FaW",
    "outputId": "983f86ab-3957-4230-9210-3cfe4544aa4b"
   },
   "outputs": [
    {
     "data": {
      "image/png": "[encoded data removed]",
      "text/plain": [
       "<Figure size 1152x648 with 1 Axes>"
      ]
     },
     "metadata": {
      "needs_background": "light"
     },
     "output_type": "display_data"
    }
   ],
   "source": [
    "# plotting actual and predicted Adj Close price of random ticker\n",
    "rand_ticker = random.choice(tickers)\n",
    "plt.plot(pred_adj_close_df.index.values, act_adj_close_df[rand_ticker][time_step + 1:].values, label='Actual Price')\n",
    "plt.plot(pred_adj_close_df.index.values, pred_adj_close_df[rand_ticker].values, label='Pred Price')\n",
    "plt.axvline(x=pred_adj_close_df.index[all_split], c='r', linestyle='--')\n",
    "plt.xlabel('Date')\n",
    "plt.ylabel('Adj Close Price')\n",
    "plt.title(f'{rand_ticker} Train and Validation')\n",
    "plt.legend()\n",
    "plt.show()"
   ]
  },
  {
   "cell_type": "code",
   "execution_count": 63,
   "metadata": {
    "colab": {
     "base_uri": "https://localhost:8080/",
     "height": 574
    },
    "id": "sNfTssNmBTMI",
    "outputId": "cf866d8a-6201-4ce4-f34c-dea1b65618b2"
   },
   "outputs": [
    {
     "data": {
      "image/png": "[encoded data removed]",
      "text/plain": [
       "<Figure size 1152x648 with 1 Axes>"
      ]
     },
     "metadata": {
      "needs_background": "light"
     },
     "output_type": "display_data"
    }
   ],
   "source": [
    "val_act = act_adj_close_df[rand_ticker][time_step + 1 + all_split:]\n",
    "val_pred = pred_adj_close_df[rand_ticker][all_split:]\n",
    "\n",
    "plt.plot(pred_adj_close_df.index[all_split:].values, val_act.values, label='Actual Price')\n",
    "plt.plot(pred_adj_close_df.index[all_split:].values, val_pred.values, label='Pred Price')\n",
    "plt.xlabel('Date')\n",
    "plt.ylabel('Adj Close Price')\n",
    "plt.title(f'{rand_ticker} Validation')\n",
    "plt.legend()\n",
    "plt.show()"
   ]
  },
  {
   "cell_type": "code",
   "execution_count": null,
   "metadata": {
    "colab": {
     "base_uri": "https://localhost:8080/"
    },
    "id": "aIqq16y8PUh_",
    "outputId": "c2d7a791-17b7-4657-f7d2-8590151683ed"
   },
   "outputs": [],
   "source": [
    "print(f'Val RMSE: {mean_squared_error(val_act, val_pred, squared=True)}')"
   ]
  },
  {
   "cell_type": "code",
   "execution_count": null,
   "metadata": {
    "colab": {
     "base_uri": "https://localhost:8080/",
     "height": 270
    },
    "id": "ui1eBGtf4bm9",
    "outputId": "154f1f6a-2f05-4027-970a-3cba6763931d"
   },
   "outputs": [],
   "source": [
    "model_loss_df.tail()"
   ]
  },
  {
   "cell_type": "code",
   "execution_count": null,
   "metadata": {
    "colab": {
     "base_uri": "https://localhost:8080/",
     "height": 388
    },
    "id": "p73jw7CQ4dJn",
    "outputId": "d18e7e29-e1bc-4434-d3f4-eeb79b6e9fc0"
   },
   "outputs": [],
   "source": [
    "pred_adj_close_df.head()"
   ]
  },
  {
   "cell_type": "code",
   "execution_count": null,
   "metadata": {
    "colab": {
     "base_uri": "https://localhost:8080/",
     "height": 270
    },
    "id": "jP4kswyK4e31",
    "outputId": "a737f222-2c55-4232-a145-ad4e9d0b23ad"
   },
   "outputs": [],
   "source": [
    "model_perf_df"
   ]
  },
  {
   "cell_type": "code",
   "execution_count": null,
   "metadata": {
    "id": "lAwHNJwBVmWW"
   },
   "outputs": [],
   "source": [
    "model_loss_df.to_csv('model-loss-df.csv')\n",
    "pred_adj_close_df.to_csv('pred-adj-close-df.csv')\n",
    "model_perf_df.to_csv('model-perf-df.csv')"
   ]
  },
  {
   "cell_type": "code",
   "execution_count": null,
   "metadata": {
    "id": "hPT6qYwq5MTh"
   },
   "outputs": [],
   "source": [
    "# act_adj_close_df = pd.read_csv('act-adj-close-df.csv', index_col=0)\n",
    "# act_adj_close_df.index = pd.to_datetime(act_adj_close_df.index)\n",
    "\n",
    "# model_loss_df = pd.read_csv('model-loss-df.csv', index_col=0)\n",
    "\n",
    "# pred_adj_close_df = pd.read_csv('pred-adj-close-df.csv', index_col=0)\n",
    "# pred_adj_close_df.index = pd.to_datetime(pred_adj_close_df.index)\n",
    "\n",
    "# model_perf_df = pd.read_csv('model-perf-df.csv', index_col=0)"
   ]
  },
  {
   "cell_type": "markdown",
   "metadata": {
    "id": "sjUQE6xsSSfB"
   },
   "source": [
    "### 6. Building portfolios"
   ]
  },
  {
   "cell_type": "code",
   "execution_count": null,
   "metadata": {
    "colab": {
     "base_uri": "https://localhost:8080/",
     "height": 388
    },
    "id": "Ow2zFPHDx3r_",
    "outputId": "a5f20ba5-41b4-4a01-8547-db966aa797a5"
   },
   "outputs": [],
   "source": [
    "# daily returns of actual Adj Close price (validation phase)\n",
    "act_adj_close_val_df = act_adj_close_df.iloc[time_step + 1 + all_split:, :]\n",
    "act_daily_ret_df = act_adj_close_val_df.pct_change()\n",
    "act_daily_ret_df = act_daily_ret_df.iloc[1:, :]\n",
    "act_daily_ret_df.head()"
   ]
  },
  {
   "cell_type": "code",
   "execution_count": null,
   "metadata": {
    "colab": {
     "base_uri": "https://localhost:8080/",
     "height": 388
    },
    "id": "1W9DKZeAxrlG",
    "outputId": "def8c824-4098-4f80-c006-52c16d1d4039"
   },
   "outputs": [],
   "source": [
    "# daily returns of predicted Adj Close price (validation phase)\n",
    "pred_adj_close_val_df = pred_adj_close_df.iloc[all_split:, :]\n",
    "pred_daily_ret_df = pred_adj_close_val_df.pct_change()\n",
    "pred_daily_ret_df = pred_daily_ret_df.iloc[1:, :]\n",
    "pred_daily_ret_df.head()"
   ]
  },
  {
   "cell_type": "code",
   "execution_count": null,
   "metadata": {
    "id": "clo1g_SrcTLy"
   },
   "outputs": [],
   "source": [
    "# dataframe for daily portfolio returns\n",
    "act_daily_port_ret_df = act_daily_ret_df.copy()\n",
    "act_daily_port_ret_df.drop(columns=tickers, inplace=True)"
   ]
  },
  {
   "cell_type": "code",
   "execution_count": null,
   "metadata": {
    "id": "6M-fV4RUNVsY"
   },
   "outputs": [],
   "source": [
    "# risk free return\n",
    "risk_free_ret = 0.015"
   ]
  },
  {
   "cell_type": "code",
   "execution_count": null,
   "metadata": {
    "id": "pLH2JDBtc0c8"
   },
   "outputs": [],
   "source": [
    "# function for adding different portfolios\n",
    "def add_portfolio(portfolio, weights):\n",
    "    act_daily_port_ret_df[f'{portfolio} Return'] = act_daily_ret_df.dot(weights)\n",
    "    if portfolio == 'Pred':\n",
    "        # upper bound of security transaction tax: 0.0003\n",
    "        act_daily_port_ret_df[f'{portfolio} Return'] = act_daily_port_ret_df[f'{portfolio} Return'] - 0.0003\n",
    "    act_daily_port_ret_df[f'{portfolio} Cum Prod Return'] = (1 + act_daily_port_ret_df[f'{portfolio} Return']).cumprod()\n",
    "\n",
    "    exp_ret = act_daily_port_ret_df[f'{portfolio} Return'].mean()\n",
    "    std = act_daily_port_ret_df[f'{portfolio} Return'].std()\n",
    "    sharpe_ratio = (exp_ret - risk_free_ret) / std\n",
    "\n",
    "    print(portfolio)\n",
    "    print('Weights:')\n",
    "    print(weights)\n",
    "    print(f'Expected Return: {exp_ret:.6f}')\n",
    "    print(f'Standard Dev   : {std:.6f}')\n",
    "    print(f'Sharpe Ratio   : {sharpe_ratio:.6f}')"
   ]
  },
  {
   "cell_type": "code",
   "execution_count": null,
   "metadata": {},
   "outputs": [],
   "source": [
    "act_daily_port_ret_df"
   ]
  },
  {
   "cell_type": "code",
   "execution_count": null,
   "metadata": {},
   "outputs": [],
   "source": [
    "act_daily_port_ret_df['Pred Return']"
   ]
  },
  {
   "cell_type": "code",
   "execution_count": null,
   "metadata": {},
   "outputs": [],
   "source": [
    "(1 + act_daily_port_ret_df['Pred Return'])"
   ]
  },
  {
   "cell_type": "code",
   "execution_count": null,
   "metadata": {},
   "outputs": [],
   "source": [
    "(1 + act_daily_port_ret_df['Pred Return']).cumprod()"
   ]
  },
  {
   "cell_type": "markdown",
   "metadata": {
    "id": "kvwFN8bJStbm"
   },
   "source": [
    "#### Equally weighted portfolio"
   ]
  },
  {
   "cell_type": "code",
   "execution_count": null,
   "metadata": {
    "id": "FdL4WXpmc5Ii"
   },
   "outputs": [],
   "source": [
    "n_assets = len(tickers1)\n",
    "eq_weights = np.ones(n_assets) / n_assets"
   ]
  },
  {
   "cell_type": "code",
   "execution_count": null,
   "metadata": {
    "colab": {
     "base_uri": "https://localhost:8080/"
    },
    "id": "49o4ImtFjpYy",
    "outputId": "e13ec77f-07d0-40e7-db3e-7e16f90fafcb"
   },
   "outputs": [],
   "source": [
    "add_portfolio('Eq', eq_weights)"
   ]
  },
  {
   "cell_type": "code",
   "execution_count": null,
   "metadata": {
    "colab": {
     "base_uri": "https://localhost:8080/"
    },
    "id": "UpP_Err8WuZq",
    "outputId": "ce817f03-d2ec-48e5-e3a1-f59021b4856b"
   },
   "outputs": [],
   "source": [
    "sum(eq_weights)"
   ]
  },
  {
   "cell_type": "markdown",
   "metadata": {
    "id": "TMzzyo12SzI7"
   },
   "source": [
    "#### Market capitalization weighted portfolio"
   ]
  },
  {
   "cell_type": "raw",
   "metadata": {
    "id": "iFqpavbHVcpy"
   },
   "source": [
    "cap_data = pdr.get_quote_yahoo(tickers)['marketCap']\n",
    "cap_df = pd.DataFrame(cap_data)\n",
    "cap_df['Weight'] = cap_df / cap_df.sum()\n",
    "cap_weights = np.array(cap_df['Weight'])"
   ]
  },
  {
   "cell_type": "raw",
   "metadata": {
    "colab": {
     "base_uri": "https://localhost:8080/"
    },
    "id": "i5EFl0y3ic-O",
    "outputId": "2eed60a3-8563-40f3-9c38-ccd6411ffaf3"
   },
   "source": [
    "add_portfolio('Cap', cap_weights)"
   ]
  },
  {
   "cell_type": "raw",
   "metadata": {
    "colab": {
     "base_uri": "https://localhost:8080/"
    },
    "id": "HBVEAyLHWyL6",
    "outputId": "802ae2f4-d589-4cb6-e681-7a061e1cacf6"
   },
   "source": [
    "sum(cap_weights)"
   ]
  },
  {
   "cell_type": "markdown",
   "metadata": {
    "id": "gLMrKM-gS7iG"
   },
   "source": [
    "#### LSTM predictions portfolio"
   ]
  },
  {
   "cell_type": "code",
   "execution_count": null,
   "metadata": {
    "id": "8_XO4qjiKMSE"
   },
   "outputs": [],
   "source": [
    "# function for getting inverse of expected return using predicted Adj Close price\n",
    "# used to get optimum weights that maximize this expected return\n",
    "def exp_ret_inv(weights):\n",
    "    pred_daily_port_ret = pred_daily_ret_df.dot(weights)\n",
    "    exp_ret = pred_daily_port_ret.mean()\n",
    "    return 1 / exp_ret"
   ]
  },
  {
   "cell_type": "code",
   "execution_count": null,
   "metadata": {
    "id": "5nOI_MA8LxyN"
   },
   "outputs": [],
   "source": [
    "# expected return maximization using predicted Adj Close price\n",
    "weights0 = eq_weights # initial weights\n",
    "# bounds: weight should be between 0.0 and 1.0\n",
    "bnds = tuple((0.0, 1.0) for i in range(n_assets))\n",
    "# constraints: weights should add up to 1.0\n",
    "cons = ({'type': 'eq', 'fun': lambda W: np.sum(W) - 1.0})\n",
    "\n",
    "res = minimize(exp_ret_inv, weights0, method='SLSQP', bounds=bnds, constraints=cons)\n",
    "pred_weights = res.x"
   ]
  },
  {
   "cell_type": "code",
   "execution_count": null,
   "metadata": {
    "colab": {
     "base_uri": "https://localhost:8080/"
    },
    "id": "3AJnJzwzMrYu",
    "outputId": "c54b73bc-8d79-4dde-f62f-1f72ffd7f815"
   },
   "outputs": [],
   "source": [
    "add_portfolio('Pred', pred_weights)"
   ]
  },
  {
   "cell_type": "code",
   "execution_count": null,
   "metadata": {},
   "outputs": [],
   "source": [
    "pred_weights"
   ]
  },
  {
   "cell_type": "code",
   "execution_count": null,
   "metadata": {
    "colab": {
     "base_uri": "https://localhost:8080/"
    },
    "id": "OigYBYROW1_R",
    "outputId": "143e23a0-7fc2-4c07-c468-03a24b7602cf"
   },
   "outputs": [],
   "source": [
    "sum(pred_weights)"
   ]
  },
  {
   "cell_type": "markdown",
   "metadata": {
    "id": "-ol1EL4tU7rk"
   },
   "source": [
    "#### Plotting cummulative product returns"
   ]
  },
  {
   "cell_type": "code",
   "execution_count": null,
   "metadata": {
    "colab": {
     "base_uri": "https://localhost:8080/",
     "height": 455
    },
    "id": "S7Ha-LnIj5F3",
    "outputId": "fba37135-2c7e-498e-ee39-3a6ed4b6cde0"
   },
   "outputs": [],
   "source": [
    "act_daily_port_ret_df"
   ]
  },
  {
   "cell_type": "code",
   "execution_count": null,
   "metadata": {
    "colab": {
     "base_uri": "https://localhost:8080/"
    },
    "id": "EcevbNODNDu_",
    "outputId": "d19bee7b-e96e-4d02-c28d-c3a0a3f24a03"
   },
   "outputs": [],
   "source": [
    "adoi = pred_adj_close_df.index[all_split] - datetime.timedelta(days=1)\n",
    "print(f'Assumed Date of Investment: {adoi.date()}')"
   ]
  },
  {
   "cell_type": "code",
   "execution_count": null,
   "metadata": {
    "colab": {
     "base_uri": "https://localhost:8080/",
     "height": 574
    },
    "id": "JIAFOYbWj7A3",
    "outputId": "dfe1ae00-4d70-4643-8c2b-8862f64b5457"
   },
   "outputs": [],
   "source": [
    "plt.plot(act_daily_port_ret_df.index, act_daily_port_ret_df['Eq Cum Prod Return'], \n",
    "         label='Equally Weighted Portfolio', color='fuchsia')\n",
    "#plt.plot(act_daily_port_ret_df.index, act_daily_port_ret_df['Cap Cum Prod Return'], \n",
    "#         label='Cap Weighted Portfolio', color='blue')\n",
    "plt.plot(act_daily_port_ret_df.index, act_daily_port_ret_df['Pred Cum Prod Return'], \n",
    "         label='LSTM Predictions Portfolio', color='red')\n",
    "plt.xlabel('Date')\n",
    "plt.ylabel('Cummulative Product Return')\n",
    "plt.title('Cummulative Product Returns')\n",
    "plt.ylim(0.9, 2.5)\n",
    "plt.legend()\n",
    "plt.show()"
   ]
  },
  {
   "cell_type": "code",
   "execution_count": null,
   "metadata": {
    "id": "8HE0X25-kobx"
   },
   "outputs": [],
   "source": []
  }
 ],
 "metadata": {
  "accelerator": "GPU",
  "colab": {
   "collapsed_sections": [],
   "name": "Investment-Portfolio-Optimization.ipynb",
   "provenance": [],
   "toc_visible": true
  },
  "kernelspec": {
   "display_name": "Python 3 (ipykernel)",
   "language": "python",
   "name": "python3"
  },
  "language_info": {
   "codemirror_mode": {
    "name": "ipython",
    "version": 3
   },
   "file_extension": ".py",
   "mimetype": "text/x-python",
   "name": "python",
   "nbconvert_exporter": "python",
   "pygments_lexer": "ipython3",
   "version": "3.8.3"
  }
 },
 "nbformat": 4,
 "nbformat_minor": 1
}
